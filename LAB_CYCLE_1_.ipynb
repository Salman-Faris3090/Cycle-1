{
  "nbformat": 4,
  "nbformat_minor": 0,
  "metadata": {
    "colab": {
      "provenance": [],
      "authorship_tag": "ABX9TyNt0wmGgnDOCwMjjGvQIOco",
      "include_colab_link": true
    },
    "kernelspec": {
      "name": "python3",
      "display_name": "Python 3"
    },
    "language_info": {
      "name": "python"
    }
  },
  "cells": [
    {
      "cell_type": "markdown",
      "metadata": {
        "id": "view-in-github",
        "colab_type": "text"
      },
      "source": [
        "<a href=\"https://colab.research.google.com/github/Salman-Faris3090/Raptor-python-1/blob/main/LAB_CYCLE_1_.ipynb\" target=\"_parent\"><img src=\"https://colab.research.google.com/assets/colab-badge.svg\" alt=\"Open In Colab\"/></a>"
      ]
    },
    {
      "cell_type": "markdown",
      "source": [
        "**Question 1:**"
      ],
      "metadata": {
        "id": "nULVlQTMn4xN"
      }
    },
    {
      "cell_type": "code",
      "execution_count": null,
      "metadata": {
        "colab": {
          "base_uri": "https://localhost:8080/"
        },
        "id": "mcMwu8cThPMs",
        "outputId": "93dd28da-4ad1-42e6-837c-a31471084f8f"
      },
      "outputs": [
        {
          "output_type": "stream",
          "name": "stdout",
          "text": [
            "Enter the four digit number:4958\n",
            "sum of digits of number: 26\n",
            "Reverse of the given number is: 8594\n",
            "Difference between number based on position is: -52\n"
          ]
        }
      ],
      "source": [
        "  # Develop a program to read a 4 digit number and find it's:\n",
        "                    #Sum.  \n",
        "                    #Reverse. \n",
        "                    #Difference between products of digits at the odd position and products of digits at the even position.\n",
        "\n",
        "\n",
        "\n",
        "\n",
        "def sum(n):   #Function for finding sum\n",
        "  s=0\n",
        "  while n>0:\n",
        "    r=n%10\n",
        "    s=s+r\n",
        "    n=n//10\n",
        "  return s\n",
        "\n",
        "def rev(n):   #Function for reversing number\n",
        "  s=0\n",
        "  i=1\n",
        "  while n>0:\n",
        "    r=n%10\n",
        "    s=s*10+r\n",
        "    n=n//10\n",
        "  return s\n",
        "\n",
        "def diff_pro(n): #Function for finding difference between products of numbers based position\n",
        "  p=1\n",
        "  o=1\n",
        "  e=1\n",
        "  while n>0:\n",
        "    r=n%10\n",
        "    if p%2==0:  \n",
        "      e=e*r\n",
        "    else:\n",
        "      o=o*r\n",
        "    p=p+1\n",
        "    n=n//10\n",
        "  c=(o-e)*-1\n",
        "  return c\n",
        "\n",
        "z=int(input(\"Enter the four digit number:\"))  \n",
        "print(\"sum of digits of number:\",sum(z))                               #Function call of sum\n",
        "print(\"Reverse of the given number is:\",rev(z))                        #Function for reversing number\n",
        "print(\"Difference between number based on position is:\",diff_pro(z))   #Function call for finding difference of products based on position"
      ]
    },
    {
      "cell_type": "markdown",
      "source": [
        "**Question 2**:     \n"
      ],
      "metadata": {
        "id": "SDsqMeu6j1HJ"
      }
    },
    {
      "cell_type": "code",
      "source": [
        "    #Develop a program to read the three sides of two triangles and calculate the area of both.\n",
        "    #Define a function to read three sides and call it.\n",
        "    #Define a function to calculate the area.\n",
        "    #print total area enclosed by both triangles and their contribution (%) towards it.\n",
        "\n",
        "\n",
        "\n",
        "\n",
        "def triangle_sides():                        #Function for entering sides\n",
        "  a=float(input(\"Enter first side:\"))\n",
        "  b=float(input(\"Enter second side:\"))\n",
        "  c=float(input(\"Enter third side:\"))\n",
        "  \n",
        "  return a,b,c\n",
        "\n",
        "def triangle_area(a,b,c):                    #Function for finding area\n",
        "  import math\n",
        "  s=(a+b+c)/2\n",
        "  area=math.sqrt(s*(s-a)*(s-b)*(s-c))\n",
        "  return area\n",
        "\n",
        "def totalarea_contribution(area1,area2):     #Function for finding total area and contribution %\n",
        "  Total_Area=(area1+area2)\n",
        "  Contribution1=(area1*100)/Total_Area\n",
        "  Contribution2=(area2*100)/Total_Area\n",
        "  print(\"Total area of triangles:\",Total_Area)\n",
        "  print(\"Contribution of first triangle is:\",Contribution1,\"%\")\n",
        "  print(\"Contribution of second triangle is:\",Contribution2,\"%\")\n",
        "  \n",
        "print(\"*******Triangle 1*******\")\n",
        "a1,b1,c1=triangle_sides()                        #Function calls for Triangle 1\n",
        "area1=triangle_area(a1,b1,c1)\n",
        "print(\"The area of Triangle 1 is:\",area1)\n",
        "\n",
        "\n",
        "print(\"*******Triangle 2*******\")\n",
        "a2,b2,c2=triangle_sides()                        #Function calls for Triangle 2\n",
        "area2=triangle_area(a2,b2,c2)\n",
        "print(\"The area of Triangle 2 is:\",area2)\n",
        "\n",
        "totalarea_contribution(area1,area2)              #Function call for finding contribution of each triangle\n",
        "\n",
        "\n"
      ],
      "metadata": {
        "colab": {
          "base_uri": "https://localhost:8080/"
        },
        "id": "TfUaPMm5kMGl",
        "outputId": "526e16a4-638f-4de9-a53c-db03bc1d1857"
      },
      "execution_count": null,
      "outputs": [
        {
          "output_type": "stream",
          "name": "stdout",
          "text": [
            "*******Triangle 1*******\n",
            "Enter first side:9\n",
            "Enter second side:8\n",
            "Enter third side:7\n",
            "The area of Triangle 1 is: 26.832815729997478\n",
            "*******Triangle 2*******\n",
            "Enter first side:6\n",
            "Enter second side:5\n",
            "Enter third side:7\n",
            "The area of Triangle 2 is: 14.696938456699069\n",
            "Total area of triangles: 41.52975418669655\n",
            "Contribution of first triangle is: 64.6110632135477 %\n",
            "Contribution of second triangle is: 35.3889367864523 %\n"
          ]
        }
      ]
    },
    {
      "cell_type": "markdown",
      "source": [
        "**Question 3:**"
      ],
      "metadata": {
        "id": "0lXi1WXwn_gr"
      }
    },
    {
      "cell_type": "code",
      "source": [
        "       #Develop a program to read the Employee's Name,Code and Basic pay.\n",
        "       #Calculate the Gross Salary,Deduction and Net Salary.\n",
        "       #Define function to find each components.\n",
        "       #Generate a Payslip.\n",
        "\n",
        "\n",
        "\n",
        "\n",
        "def gross_salary(bp,da,hra,ma):            #Function for calculating Gross Salary                 \n",
        "  Gross_salary=bp+da+hra+ma                                                                       \n",
        "  return Gross_salary                                                                             \n",
        "                                                                                                  \n",
        "                                          #Function for calculating Deduction                     \n",
        "def deduction(pt,pf,it):                                                                          \n",
        "  Deduction=pt+pf+it                                                                              \n",
        "  return Deduction                                                                                \n",
        "                                                                                                  \n",
        "                                                                                                  \n",
        "def net_salary(gs,d):                     #Function for calculating Net Salary\n",
        "  NetSalary=gs-d\n",
        "  return NetSalary\n",
        "\n",
        "\n",
        "def pay_slip(name,code,basicPay):         #Function for entering Payment Slip\n",
        "  if basicPay<10000:\n",
        "    DA=(basicPay*5)/100\n",
        "    HRA=(basicPay*2.5)/100\n",
        "    MA=500\n",
        "    PT=20\n",
        "    PF=(basicPay*8)/100\n",
        "    IT=0\n",
        "    Gross_salary=gross_salary(basicPay,DA,HRA,MA)\n",
        "    Deduction=deduction(PT,PF,IT)\n",
        "    NetSalary=net_salary(Gross_salary,Deduction)\n",
        "\n",
        "\n",
        "  elif basicPay>10000 and basicPay<30000:\n",
        "    DA=(basicPay*7.5)/100\n",
        "    HRA=(basicPay*5)/100\n",
        "    MA=2500\n",
        "    PT=60\n",
        "    PF=(basicPay*8)/100\n",
        "    IT=0\n",
        "    Gross_salary=gross_salary(basicPay,DA,HRA,MA)\n",
        "    Deduction=deduction(PT,PF,IT)\n",
        "    NetSalary=net_salary(Gross_salary,Deduction)\n",
        "\n",
        "\n",
        "  elif basicPay>30000 and basicPay<50000:\n",
        "    DA=(basicPay*11)/100\n",
        "    HRA=(basicPay*7.5)/100\n",
        "    MA=5000\n",
        "    PT=60\n",
        "    PF=(basicPay*11)/100\n",
        "    IT=(basicPay*11)/100\n",
        "    Gross_salary=gross_salary(basicPay,DA,HRA,MA)\n",
        "    Deduction=deduction(PT,PF,IT)\n",
        "    NetSalary=net_salary(Gross_salary,Deduction)\n",
        "\n",
        "\n",
        "  else:\n",
        "    DA=(basicPay*25)/100\n",
        "    HRA=(basicPay*11)/100\n",
        "    MA=7000\n",
        "    PT=80\n",
        "    PF=(basicPay*12)/100\n",
        "    IT=(basicPay*20)/100\n",
        "    Gross_salary=gross_salary(basicPay,DA,HRA,MA)\n",
        "    Deduction=deduction(PT,PF,IT)\n",
        "    NetSalary=net_salary(Gross_salary,Deduction)\n",
        "\n",
        "\n",
        "  print(\"*** PAYMENT SLIP ***\")\n",
        "  print(\"Employee name:\",name)\n",
        "  print(\"Employee code:\",code)\n",
        "  print(\"Employee basic pay:\",basicPay)\n",
        "  print(\"Employee DA:\",DA)\n",
        "  print(\"Employee HRA:\",HRA)\n",
        "  print(\"Employee MA:\",MA)\n",
        "  print(\"Employee PT:\",PT)\n",
        "  print(\"Employee PF:\",PF)\n",
        "  print(\"Employee IT:\",IT)\n",
        "  print(\"Employee Gross salary:\",Gross_salary)\n",
        "  print(\"Employee Deduction:\",Deduction)\n",
        "  print(\"Employee Net Salary:\",NetSalary)\n",
        "\n",
        "\n",
        "\n",
        "Name=input(\"Enter Employee Name:\")\n",
        "Code=int(input(\"Enter Employee code:\"))\n",
        "basicPay=int(input(\"Enter Employee basic pay:\"))\n",
        "pay_slip(Name,Code,basicPay)                                  #Function call of Payment Slip\n",
        "    \n"
      ],
      "metadata": {
        "colab": {
          "base_uri": "https://localhost:8080/"
        },
        "id": "wPPUQknDn_AI",
        "outputId": "981168f8-cc21-4a73-d77a-c309d88fcad3"
      },
      "execution_count": null,
      "outputs": [
        {
          "output_type": "stream",
          "name": "stdout",
          "text": [
            "Enter Employee Name:Salman\n",
            "Enter Employee code:3090\n",
            "Enter Employee basic pay:55000\n",
            "*** PAYMENT SLIP ***\n",
            "Employee name: Salman\n",
            "Employee code: 3090\n",
            "Employee basic pay: 55000\n",
            "Employee DA: 13750.0\n",
            "Employee HRA: 6050.0\n",
            "Employee MA: 7000\n",
            "Employee PT: 80\n",
            "Employee PF: 6600.0\n",
            "Employee IT: 11000.0\n",
            "Employee Gross salary: 81800.0\n",
            "Employee Deduction: 17680.0\n",
            "Employee Net Salary: 64120.0\n"
          ]
        }
      ]
    },
    {
      "cell_type": "markdown",
      "source": [
        "**Question 4:**"
      ],
      "metadata": {
        "id": "UKWJMwh6Lcd_"
      }
    },
    {
      "cell_type": "code",
      "source": [
        "       #Develop a program and define functions to:\n",
        "       #Check a number is Happy or not.\n",
        "       #Print Happy numbers within a range.\n",
        "       #Print first N happy numbers.\n",
        "\n",
        "\n",
        "\n",
        "       \n",
        "def check_happy(num):                                    #Function to check a number is happy or not\n",
        "  for i in range (1,101):\n",
        "    sum=0\n",
        "    while num>0:\n",
        "     r=num%10\n",
        "     num=num//10\n",
        "     sum=sum+(r*r)\n",
        "    if sum==1:\n",
        "      return True\n",
        "    else:\n",
        "      num=sum\n",
        "      if(i==100):\n",
        "        return False\n",
        "\n",
        "\n",
        "def happy_range(lowlimit,upprlimit):                     #Function to print happy numbers within a range\n",
        "  for i in range(lowlimit,upprlimit):\n",
        "    isHappy=check_happy(i)\n",
        "    if isHappy:\n",
        "      print(i,end=\" \")\n",
        "\n",
        "def happy_n(l,upprlimit):                               #Function to print first N happy numbers\n",
        "  for i in range(l,upprlimit):\n",
        "    isHappy=check_happy(i)\n",
        "    if isHappy:\n",
        "       print(i,end=\" \")\n",
        "\n",
        "num = int(input(\"Enter the number : \"))\n",
        "result = check_happy(num)                              #Function call to check a number is happy or not\n",
        "if result:\n",
        "  print(num,\"Is Happy \")\n",
        "else:\n",
        "  print(num,\"Is Sad\")\n",
        "\n",
        "lower_limit=int(input(\"Enter the lower limit:\"))\n",
        "upper_limit=int(input(\"Enter the upper limit:\"))\n",
        "happy_range(lower_limit,upper_limit)                  #Function call to print happy numbers within a range\n",
        "\n",
        "limit=int(input(\"\\nenter the limit of upto which you want to print: \"))\n",
        "happy_n(1,limit)                                     #Function call to print first N happy numbers\n",
        "\n",
        "\n"
      ],
      "metadata": {
        "colab": {
          "base_uri": "https://localhost:8080/"
        },
        "id": "CFM2j4MKMXo6",
        "outputId": "ebae34da-cc09-4c6f-9a64-9f2db7d37b4c"
      },
      "execution_count": null,
      "outputs": [
        {
          "output_type": "stream",
          "name": "stdout",
          "text": [
            "Enter the number : 6\n",
            "6 Is Sad\n",
            "Enter the lower limit:1\n",
            "Enter the upper limit:65\n",
            "1 7 10 13 19 23 28 31 32 44 49 \n",
            "enter the limit of upto which you want to print: 99\n",
            "1 7 10 13 19 23 28 31 32 44 49 68 70 79 82 86 91 94 97 "
          ]
        }
      ]
    },
    {
      "cell_type": "markdown",
      "source": [
        "**Question 5:**"
      ],
      "metadata": {
        "id": "ofgmHzSSn1AE"
      }
    },
    {
      "cell_type": "code",
      "source": [
        "       #Develop a program and define functions to read a string and perform the tasks:\n",
        "       #Print all possible substrings\n",
        "       #Print all substrings of length K\n",
        "       #Print all substrings of length K and with N distinct characters\n",
        "       #Print all palindrome substrings.\n",
        "\n",
        "\n",
        "\n",
        "\n",
        "def subString(name):                                 #Function for Sub String\n",
        "  for i in range(0,len(name)+1):\n",
        "    for m in range(i+1,len(name)+1):\n",
        "      a=name[i:m]\n",
        "      print(a,end=\"#\")\n",
        "\n",
        "\n",
        "def subStringK(name,size):                          #Function for Sub String with specified length \n",
        "  for i in range(0,len(name)+1):\n",
        "    for m in range(i+1,len(name)+1):\n",
        "      a=name[i:m]\n",
        "      if len(a)==size:\n",
        "        print(a,end=\"#\")\n",
        "\n",
        "\n",
        "\n",
        "\n",
        "\n",
        "def subStringK_N_characters(name,size,n):        #Function for Sub String with specified length and distinct characters\n",
        "  for i in range(0,len(name)+1):\n",
        "    for m in range(i+1,len(name)+1):\n",
        "      a=name[i:m]\n",
        "      if len(a)==size:\n",
        "        N=set(a)\n",
        "        if len(N)==n:\n",
        "          print(a,end=\"#\")\n",
        "        else:\n",
        "          print(\"No such word\")\n",
        "\n",
        "\n",
        "\n",
        "\n",
        "\n",
        "def subStringMax_N_characters(name,n):         #Function for Sub String with max length and distinct characters\n",
        "  s=[]\n",
        "  for i in range(0,len(name)+1):\n",
        "    for m in range(i+1,len(name)+1):\n",
        "      a=name[i:m]\n",
        "      N=set(a)\n",
        "      if len(N)==n:\n",
        "        s.append(a)\n",
        "\n",
        "  l=len(max(s,key=len))\n",
        "  for i in s:\n",
        "    if len(i)==l:\n",
        "      print(i,end=\"#\")\n",
        "\n",
        "\n",
        "\n",
        "def palindrome(name):                        #Function for Palindrome\n",
        "  for i in range(0,len(name)+1):\n",
        "    for m in range(i+1,len(name)+1):\n",
        "      a=name[i:m]\n",
        "      r=a[::-1]\n",
        "    if r[0]!=a[0]:\n",
        "      print(\"Not a Palindrome\")\n",
        "    \n",
        "\n",
        "\n",
        "name=input(\"Enter the String:\")\n",
        "print(\"All the possible Sub Strings are:\")\n",
        "subString(name)                                           #Function call for substrings\n",
        "\n",
        "x=int(input(\"Enter the length of the Sub String:\"))\n",
        "print(\"\\nAll the possible Sub Strings with length \",x,\" are:\")\n",
        "subStringK(name,x)                                        #Function call for substring with specified length\n",
        "\n",
        "\n",
        "d=int(input(\"Enter the number of distinct characters:\"))\n",
        "print(\"\\nAll the possible Sub Strings with length\",x,\"and number of distinct characters \",d,\" are:\")\n",
        "subStringK_N_characters(name,x,d)                         #Function call for substring with specified length and distinct characters\n",
        "\n",
        "\n",
        "print(\"\\nAll the Sub Strings with maximum length and number of distinct characters \",d,\" are:\")\n",
        "subStringMax_N_characters(name,d)                         #Function call for substring with maximum length and distinct characters\n",
        "\n",
        "\n",
        "print(\"\\nPalindrome strings are:\")\n",
        "palindrome(name)                                         #Function call for Palindrome strings\n"
      ],
      "metadata": {
        "id": "KnJYpvewn1V4"
      },
      "execution_count": null,
      "outputs": []
    }
  ]
}